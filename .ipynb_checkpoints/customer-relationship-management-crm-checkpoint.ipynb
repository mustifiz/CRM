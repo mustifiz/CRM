{
 "cells": [
  {
   "cell_type": "markdown",
   "metadata": {},
   "source": [
    "<font color = '#F1C40F'>\n",
    "\n",
    "<a id = \"1\"></a><br>\n",
    "#  CUSTOMER RELATİONSHİP MANAGEMENT(CRM) \n",
    "<img style=\"float: margin:1000px 50px 50px 1px; max-width:500px\" src=\"https://www.it-zoom.de/fileadmin/user_upload/a-crm-kunden_gi_istock_gip-1600.jpg\">\n"
   ]
  },
  {
   "cell_type": "markdown",
   "metadata": {},
   "source": [
    "# \n",
    "    \n",
    "<font color = '#FF7F50'>\n",
    "\n",
    "Content:\n",
    "1. [Customer Relationship Management (CRM)](#1)\n",
    "* [What is CRM?](#2)\n",
    "* [What is the purpose?](#3)\n",
    "* [Content of Dataset](#4)\n",
    "* [Attribute Information](#5)\n",
    "2. [Library Import](#6)\n",
    "3. [Data Preprocessing](#7)\n",
    "4. [RFM](#10)\n",
    "* [What is RFM?](#11)\n",
    "* [RFM Segments](#12)\n",
    "5. [What is Customer Lifetime Value(CLV or CLTV)?](#13)\n",
    "* [CLTV Calculated](#14)\n",
    "6. [CLTV Predicted](#15)\n",
    "* [What is a cohort model?](#16)\n",
    "* [BG-NBD](#17)\n",
    "* [Gamma Gamma](#18)\n",
    "7. [Result](#19)\n",
    "8. [Summary](#20)"
   ]
  },
  {
   "cell_type": "markdown",
   "metadata": {},
   "source": [
    "\n",
    "<font color = '#34495E'>\n",
    "\n",
    " <a id = \"2\"></a><br>\n",
    "### What is CRM? \n",
    "\n",
    "Customer relationship management (CRM) is the combination of practices, strategies and technologies that companies use to manage and analyze customer interactions and data throughout the customer lifecycle. The goal is to improve customer service relationships and assist in customer retention and drive sales growth. CRM systems compile customer data across different channels, or points of contact, between the customer and the company, which could include the company's website, telephone, live chat, direct mail, marketing materials and social networks. CRM systems can also give customer-facing staff members detailed information on customers' personal information, purchase history, buying preferences and concerns.\n",
    "    \n",
    "    * Quelle https://keap.com/product/what-is-crm\n",
    "\n",
    " <a id = \"3\"></a><br>\n",
    "### What is the purpose?\n",
    "\n",
    "We will add statistics and probability pattern to the above formula. There will be BG / NBD and Gamma Gamma models that will make this happen to us. These models will do such a thing that they will model the purchasing behavior of all customers of this company, after modeling the purchasing behavior of all customers, they will replace the individual's personal characteristics in this model and reduce the expected number of sales to the person from the general audience pattern.\n",
    "\n",
    "BG NBD and Gamma Gamma models are statistical models, not machine learning models. In fact, these models have the expression \"Conditional\" at the beginning.\n",
    "<a id = \"4\"></a><br>\n",
    "### Content of Dataset\n",
    "\n",
    "This Online Retail II data set contains all the transactions occurring for a UK-based and registered, non-store online retail between 01/12/2009 and 09/12/2011.The company mainly sells unique all-occasion gift-ware. Many customers of the company are wholesalers.\n",
    "\n",
    "<a id = \"5\"></a><br>\n",
    "### Attribute Information:\n",
    "\n",
    "InvoiceNo: Invoice number. If this code starts with the letter 'c', it indicates a cancellation.\n",
    "StockCode: Product code.\n",
    "Description: Product name.\n",
    "Quantity: The quantities of each product per transaction.\n",
    "InvoiceDate: Invoice date and time.The day and time when a transaction was generated.\n",
    "UnitPrice: Unit price. Product price per unit in sterling.\n",
    "CustomerID: Customer number.A 5-digit integral number uniquely assigned to each customer.\n",
    "Country: Country name. The name of the country where a customer resides.\n",
    "\n",
    "\n",
    "\n"
   ]
  },
  {
   "cell_type": "markdown",
   "metadata": {},
   "source": [
    "# Dataset import"
   ]
  },
  {
   "cell_type": "code",
   "execution_count": 1,
   "metadata": {
    "_cell_guid": "b1076dfc-b9ad-4769-8c92-a6c4dae69d19",
    "_uuid": "8f2839f25d086af736a60e9eeb907d3b93b6e0e5",
    "execution": {
     "iopub.execute_input": "2022-01-17T00:25:50.259020Z",
     "iopub.status.busy": "2022-01-17T00:25:50.258497Z",
     "iopub.status.idle": "2022-01-17T00:25:50.280472Z",
     "shell.execute_reply": "2022-01-17T00:25:50.279472Z",
     "shell.execute_reply.started": "2022-01-17T00:25:50.258877Z"
    }
   },
   "outputs": [],
   "source": [
    "# This Python 3 environment comes with many helpful analytics libraries installed\n",
    "# It is defined by the kaggle/python Docker image: https://github.com/kaggle/docker-python\n",
    "# For example, here's several helpful packages to load\n",
    "\n",
    "import numpy as np # linear algebra\n",
    "import pandas as pd # data processing, CSV file I/O (e.g. pd.read_csv)\n",
    "\n",
    "# Input data files are available in the read-only \"../input/\" directory\n",
    "# For example, running this (by clicking run or pressing Shift+Enter) will list all files under the input directory\n",
    "\n",
    "import os\n",
    "for dirname, _, filenames in os.walk('/kaggle/input'):\n",
    "    for filename in filenames:\n",
    "        print(os.path.join(dirname, filename))\n",
    "\n",
    "# You can write up to 20GB to the current directory (/kaggle/working/) that gets preserved as output when you create a version using \"Save & Run All\" \n",
    "# You can also write temporary files to /kaggle/temp/, but they won't be saved outside of the current session"
   ]
  },
  {
   "cell_type": "markdown",
   "metadata": {},
   "source": [
    "\n",
    "    \n",
    "<font color = '#F1C40F'>\n",
    "\n",
    "<a id = \"6\"></a><br>\n",
    "#  Library Import"
   ]
  },
  {
   "cell_type": "code",
   "execution_count": 3,
   "metadata": {
    "execution": {
     "iopub.execute_input": "2022-01-17T00:27:17.367295Z",
     "iopub.status.busy": "2022-01-17T00:27:17.366796Z",
     "iopub.status.idle": "2022-01-17T00:27:27.207599Z",
     "shell.execute_reply": "2022-01-17T00:27:27.206111Z",
     "shell.execute_reply.started": "2022-01-17T00:27:17.367251Z"
    }
   },
   "outputs": [],
   "source": [
    "!pip install -U pip"
   ]
  },
  {
   "cell_type": "code",
   "execution_count": 2,
   "metadata": {
    "execution": {
     "iopub.execute_input": "2022-01-17T00:27:33.044776Z",
     "iopub.status.busy": "2022-01-17T00:27:33.044377Z",
     "iopub.status.idle": "2022-01-17T00:27:53.068518Z",
     "shell.execute_reply": "2022-01-17T00:27:53.067277Z",
     "shell.execute_reply.started": "2022-01-17T00:27:33.044743Z"
    }
   },
   "outputs": [
    {
     "name": "stdout",
     "output_type": "stream",
     "text": [
      "Requirement already satisfied: xlrd in /Users/hansimgluck/opt/anaconda3/lib/python3.8/site-packages (1.2.0)\n",
      "Requirement already satisfied: openpyxl in /Users/hansimgluck/opt/anaconda3/lib/python3.8/site-packages (3.0.5)\n",
      "Requirement already satisfied: et-xmlfile in /Users/hansimgluck/opt/anaconda3/lib/python3.8/site-packages (from openpyxl) (1.0.1)\n",
      "Requirement already satisfied: jdcal in /Users/hansimgluck/opt/anaconda3/lib/python3.8/site-packages (from openpyxl) (1.4.1)\n",
      "Requirement already satisfied: lifetimes in /Users/hansimgluck/opt/anaconda3/lib/python3.8/site-packages (0.11.3)\n",
      "Requirement already satisfied: dill>=0.2.6 in /Users/hansimgluck/opt/anaconda3/lib/python3.8/site-packages (from lifetimes) (0.3.4)\n",
      "Requirement already satisfied: pandas>=0.24.0 in /Users/hansimgluck/.local/lib/python3.8/site-packages (from lifetimes) (1.3.0)\n",
      "Requirement already satisfied: scipy>=1.0.0 in /Users/hansimgluck/opt/anaconda3/lib/python3.8/site-packages (from lifetimes) (1.6.1)\n",
      "Requirement already satisfied: numpy>=1.10.0 in /Users/hansimgluck/opt/anaconda3/lib/python3.8/site-packages (from lifetimes) (1.19.5)\n",
      "Requirement already satisfied: autograd>=1.2.0 in /Users/hansimgluck/opt/anaconda3/lib/python3.8/site-packages (from lifetimes) (1.3)\n",
      "Requirement already satisfied: python-dateutil>=2.7.3 in /Users/hansimgluck/opt/anaconda3/lib/python3.8/site-packages (from pandas>=0.24.0->lifetimes) (2.8.1)\n",
      "Requirement already satisfied: pytz>=2017.3 in /Users/hansimgluck/opt/anaconda3/lib/python3.8/site-packages (from pandas>=0.24.0->lifetimes) (2020.1)\n",
      "Requirement already satisfied: future>=0.15.2 in /Users/hansimgluck/opt/anaconda3/lib/python3.8/site-packages (from autograd>=1.2.0->lifetimes) (0.18.2)\n",
      "Requirement already satisfied: six>=1.5 in /Users/hansimgluck/opt/anaconda3/lib/python3.8/site-packages (from python-dateutil>=2.7.3->pandas>=0.24.0->lifetimes) (1.15.0)\n"
     ]
    }
   ],
   "source": [
    "!pip install xlrd\n",
    "!pip install openpyxl\n",
    "!pip install lifetimes\n",
    "import pandas as pd\n",
    "import numpy as np\n",
    "import matplotlib.pyplot as plt\n",
    "import datetime as dt\n",
    "import seaborn as sns\n",
    "import missingno as msno\n",
    "from sklearn.preprocessing import MinMaxScaler\n",
    "from lifetimes import BetaGeoFitter\n",
    "from lifetimes import GammaGammaFitter\n",
    "from lifetimes.plotting import plot_period_transactions\n",
    "import warnings\n",
    "warnings.filterwarnings(\"ignore\")"
   ]
  },
  {
   "cell_type": "code",
   "execution_count": 3,
   "metadata": {
    "execution": {
     "iopub.execute_input": "2022-01-17T00:28:17.336466Z",
     "iopub.status.busy": "2022-01-17T00:28:17.336038Z",
     "iopub.status.idle": "2022-01-17T00:30:01.895850Z",
     "shell.execute_reply": "2022-01-17T00:30:01.894991Z",
     "shell.execute_reply.started": "2022-01-17T00:28:17.336429Z"
    }
   },
   "outputs": [
    {
     "ename": "UnicodeDecodeError",
     "evalue": "'utf-8' codec can't decode byte 0xa3 in position 27254: invalid start byte",
     "output_type": "error",
     "traceback": [
      "\u001b[0;31m---------------------------------------------------------------------------\u001b[0m",
      "\u001b[0;31mUnicodeDecodeError\u001b[0m                        Traceback (most recent call last)",
      "\u001b[0;32m<ipython-input-3-3ab4f8d9ecd6>\u001b[0m in \u001b[0;36m<module>\u001b[0;34m\u001b[0m\n\u001b[1;32m      1\u001b[0m \u001b[0;31m# reading the dataset\u001b[0m\u001b[0;34m\u001b[0m\u001b[0;34m\u001b[0m\u001b[0;34m\u001b[0m\u001b[0m\n\u001b[1;32m      2\u001b[0m \u001b[0;34m\u001b[0m\u001b[0m\n\u001b[0;32m----> 3\u001b[0;31m \u001b[0mdf1\u001b[0m\u001b[0;34m=\u001b[0m\u001b[0mpd\u001b[0m\u001b[0;34m.\u001b[0m\u001b[0mread_csv\u001b[0m\u001b[0;34m(\u001b[0m\u001b[0;34m\"Year_2009_2010.csv\"\u001b[0m\u001b[0;34m)\u001b[0m\u001b[0;34m\u001b[0m\u001b[0;34m\u001b[0m\u001b[0m\n\u001b[0m",
      "\u001b[0;32m~/.local/lib/python3.8/site-packages/pandas/util/_decorators.py\u001b[0m in \u001b[0;36mwrapper\u001b[0;34m(*args, **kwargs)\u001b[0m\n\u001b[1;32m    309\u001b[0m                     \u001b[0mstacklevel\u001b[0m\u001b[0;34m=\u001b[0m\u001b[0mstacklevel\u001b[0m\u001b[0;34m,\u001b[0m\u001b[0;34m\u001b[0m\u001b[0;34m\u001b[0m\u001b[0m\n\u001b[1;32m    310\u001b[0m                 )\n\u001b[0;32m--> 311\u001b[0;31m             \u001b[0;32mreturn\u001b[0m \u001b[0mfunc\u001b[0m\u001b[0;34m(\u001b[0m\u001b[0;34m*\u001b[0m\u001b[0margs\u001b[0m\u001b[0;34m,\u001b[0m \u001b[0;34m**\u001b[0m\u001b[0mkwargs\u001b[0m\u001b[0;34m)\u001b[0m\u001b[0;34m\u001b[0m\u001b[0;34m\u001b[0m\u001b[0m\n\u001b[0m\u001b[1;32m    312\u001b[0m \u001b[0;34m\u001b[0m\u001b[0m\n\u001b[1;32m    313\u001b[0m         \u001b[0;32mreturn\u001b[0m \u001b[0mwrapper\u001b[0m\u001b[0;34m\u001b[0m\u001b[0;34m\u001b[0m\u001b[0m\n",
      "\u001b[0;32m~/.local/lib/python3.8/site-packages/pandas/io/parsers/readers.py\u001b[0m in \u001b[0;36mread_csv\u001b[0;34m(filepath_or_buffer, sep, delimiter, header, names, index_col, usecols, squeeze, prefix, mangle_dupe_cols, dtype, engine, converters, true_values, false_values, skipinitialspace, skiprows, skipfooter, nrows, na_values, keep_default_na, na_filter, verbose, skip_blank_lines, parse_dates, infer_datetime_format, keep_date_col, date_parser, dayfirst, cache_dates, iterator, chunksize, compression, thousands, decimal, lineterminator, quotechar, quoting, doublequote, escapechar, comment, encoding, encoding_errors, dialect, error_bad_lines, warn_bad_lines, on_bad_lines, delim_whitespace, low_memory, memory_map, float_precision, storage_options)\u001b[0m\n\u001b[1;32m    584\u001b[0m     \u001b[0mkwds\u001b[0m\u001b[0;34m.\u001b[0m\u001b[0mupdate\u001b[0m\u001b[0;34m(\u001b[0m\u001b[0mkwds_defaults\u001b[0m\u001b[0;34m)\u001b[0m\u001b[0;34m\u001b[0m\u001b[0;34m\u001b[0m\u001b[0m\n\u001b[1;32m    585\u001b[0m \u001b[0;34m\u001b[0m\u001b[0m\n\u001b[0;32m--> 586\u001b[0;31m     \u001b[0;32mreturn\u001b[0m \u001b[0m_read\u001b[0m\u001b[0;34m(\u001b[0m\u001b[0mfilepath_or_buffer\u001b[0m\u001b[0;34m,\u001b[0m \u001b[0mkwds\u001b[0m\u001b[0;34m)\u001b[0m\u001b[0;34m\u001b[0m\u001b[0;34m\u001b[0m\u001b[0m\n\u001b[0m\u001b[1;32m    587\u001b[0m \u001b[0;34m\u001b[0m\u001b[0m\n\u001b[1;32m    588\u001b[0m \u001b[0;34m\u001b[0m\u001b[0m\n",
      "\u001b[0;32m~/.local/lib/python3.8/site-packages/pandas/io/parsers/readers.py\u001b[0m in \u001b[0;36m_read\u001b[0;34m(filepath_or_buffer, kwds)\u001b[0m\n\u001b[1;32m    486\u001b[0m \u001b[0;34m\u001b[0m\u001b[0m\n\u001b[1;32m    487\u001b[0m     \u001b[0;32mwith\u001b[0m \u001b[0mparser\u001b[0m\u001b[0;34m:\u001b[0m\u001b[0;34m\u001b[0m\u001b[0;34m\u001b[0m\u001b[0m\n\u001b[0;32m--> 488\u001b[0;31m         \u001b[0;32mreturn\u001b[0m \u001b[0mparser\u001b[0m\u001b[0;34m.\u001b[0m\u001b[0mread\u001b[0m\u001b[0;34m(\u001b[0m\u001b[0mnrows\u001b[0m\u001b[0;34m)\u001b[0m\u001b[0;34m\u001b[0m\u001b[0;34m\u001b[0m\u001b[0m\n\u001b[0m\u001b[1;32m    489\u001b[0m \u001b[0;34m\u001b[0m\u001b[0m\n\u001b[1;32m    490\u001b[0m \u001b[0;34m\u001b[0m\u001b[0m\n",
      "\u001b[0;32m~/.local/lib/python3.8/site-packages/pandas/io/parsers/readers.py\u001b[0m in \u001b[0;36mread\u001b[0;34m(self, nrows)\u001b[0m\n\u001b[1;32m   1045\u001b[0m     \u001b[0;32mdef\u001b[0m \u001b[0mread\u001b[0m\u001b[0;34m(\u001b[0m\u001b[0mself\u001b[0m\u001b[0;34m,\u001b[0m \u001b[0mnrows\u001b[0m\u001b[0;34m=\u001b[0m\u001b[0;32mNone\u001b[0m\u001b[0;34m)\u001b[0m\u001b[0;34m:\u001b[0m\u001b[0;34m\u001b[0m\u001b[0;34m\u001b[0m\u001b[0m\n\u001b[1;32m   1046\u001b[0m         \u001b[0mnrows\u001b[0m \u001b[0;34m=\u001b[0m \u001b[0mvalidate_integer\u001b[0m\u001b[0;34m(\u001b[0m\u001b[0;34m\"nrows\"\u001b[0m\u001b[0;34m,\u001b[0m \u001b[0mnrows\u001b[0m\u001b[0;34m)\u001b[0m\u001b[0;34m\u001b[0m\u001b[0;34m\u001b[0m\u001b[0m\n\u001b[0;32m-> 1047\u001b[0;31m         \u001b[0mindex\u001b[0m\u001b[0;34m,\u001b[0m \u001b[0mcolumns\u001b[0m\u001b[0;34m,\u001b[0m \u001b[0mcol_dict\u001b[0m \u001b[0;34m=\u001b[0m \u001b[0mself\u001b[0m\u001b[0;34m.\u001b[0m\u001b[0m_engine\u001b[0m\u001b[0;34m.\u001b[0m\u001b[0mread\u001b[0m\u001b[0;34m(\u001b[0m\u001b[0mnrows\u001b[0m\u001b[0;34m)\u001b[0m\u001b[0;34m\u001b[0m\u001b[0;34m\u001b[0m\u001b[0m\n\u001b[0m\u001b[1;32m   1048\u001b[0m \u001b[0;34m\u001b[0m\u001b[0m\n\u001b[1;32m   1049\u001b[0m         \u001b[0;32mif\u001b[0m \u001b[0mindex\u001b[0m \u001b[0;32mis\u001b[0m \u001b[0;32mNone\u001b[0m\u001b[0;34m:\u001b[0m\u001b[0;34m\u001b[0m\u001b[0;34m\u001b[0m\u001b[0m\n",
      "\u001b[0;32m~/.local/lib/python3.8/site-packages/pandas/io/parsers/c_parser_wrapper.py\u001b[0m in \u001b[0;36mread\u001b[0;34m(self, nrows)\u001b[0m\n\u001b[1;32m    221\u001b[0m         \u001b[0;32mtry\u001b[0m\u001b[0;34m:\u001b[0m\u001b[0;34m\u001b[0m\u001b[0;34m\u001b[0m\u001b[0m\n\u001b[1;32m    222\u001b[0m             \u001b[0;32mif\u001b[0m \u001b[0mself\u001b[0m\u001b[0;34m.\u001b[0m\u001b[0mlow_memory\u001b[0m\u001b[0;34m:\u001b[0m\u001b[0;34m\u001b[0m\u001b[0;34m\u001b[0m\u001b[0m\n\u001b[0;32m--> 223\u001b[0;31m                 \u001b[0mchunks\u001b[0m \u001b[0;34m=\u001b[0m \u001b[0mself\u001b[0m\u001b[0;34m.\u001b[0m\u001b[0m_reader\u001b[0m\u001b[0;34m.\u001b[0m\u001b[0mread_low_memory\u001b[0m\u001b[0;34m(\u001b[0m\u001b[0mnrows\u001b[0m\u001b[0;34m)\u001b[0m\u001b[0;34m\u001b[0m\u001b[0;34m\u001b[0m\u001b[0m\n\u001b[0m\u001b[1;32m    224\u001b[0m                 \u001b[0;31m# destructive to chunks\u001b[0m\u001b[0;34m\u001b[0m\u001b[0;34m\u001b[0m\u001b[0;34m\u001b[0m\u001b[0m\n\u001b[1;32m    225\u001b[0m                 \u001b[0mdata\u001b[0m \u001b[0;34m=\u001b[0m \u001b[0m_concatenate_chunks\u001b[0m\u001b[0;34m(\u001b[0m\u001b[0mchunks\u001b[0m\u001b[0;34m)\u001b[0m\u001b[0;34m\u001b[0m\u001b[0;34m\u001b[0m\u001b[0m\n",
      "\u001b[0;32m~/.local/lib/python3.8/site-packages/pandas/_libs/parsers.pyx\u001b[0m in \u001b[0;36mpandas._libs.parsers.TextReader.read_low_memory\u001b[0;34m()\u001b[0m\n",
      "\u001b[0;32m~/.local/lib/python3.8/site-packages/pandas/_libs/parsers.pyx\u001b[0m in \u001b[0;36mpandas._libs.parsers.TextReader._read_rows\u001b[0;34m()\u001b[0m\n",
      "\u001b[0;32m~/.local/lib/python3.8/site-packages/pandas/_libs/parsers.pyx\u001b[0m in \u001b[0;36mpandas._libs.parsers.TextReader._tokenize_rows\u001b[0;34m()\u001b[0m\n",
      "\u001b[0;32m~/.local/lib/python3.8/site-packages/pandas/_libs/parsers.pyx\u001b[0m in \u001b[0;36mpandas._libs.parsers.raise_parser_error\u001b[0;34m()\u001b[0m\n",
      "\u001b[0;31mUnicodeDecodeError\u001b[0m: 'utf-8' codec can't decode byte 0xa3 in position 27254: invalid start byte"
     ]
    }
   ],
   "source": [
    "# reading the dataset\n",
    "\n",
    "df1=pd.read_csv(\"Year_2009_2010.csv\")"
   ]
  },
  {
   "cell_type": "code",
   "execution_count": null,
   "metadata": {},
   "outputs": [],
   "source": [
    "import pandas as pd\n",
    "data = pd.read_csv(Year_2009_2010.c, encoding= 'unicode_escape')"
   ]
  },
  {
   "cell_type": "code",
   "execution_count": 7,
   "metadata": {},
   "outputs": [
    {
     "ename": "NameError",
     "evalue": "name 'Year_2009_2010' is not defined",
     "output_type": "error",
     "traceback": [
      "\u001b[0;31m---------------------------------------------------------------------------\u001b[0m",
      "\u001b[0;31mNameError\u001b[0m                                 Traceback (most recent call last)",
      "\u001b[0;32m<ipython-input-7-88837a423c62>\u001b[0m in \u001b[0;36m<module>\u001b[0;34m\u001b[0m\n\u001b[1;32m      1\u001b[0m \u001b[0;32mimport\u001b[0m \u001b[0mpandas\u001b[0m \u001b[0;32mas\u001b[0m \u001b[0mpd\u001b[0m\u001b[0;34m\u001b[0m\u001b[0;34m\u001b[0m\u001b[0m\n\u001b[0;32m----> 2\u001b[0;31m \u001b[0mdata\u001b[0m \u001b[0;34m=\u001b[0m \u001b[0mpd\u001b[0m\u001b[0;34m.\u001b[0m\u001b[0mread_csv\u001b[0m\u001b[0;34m(\u001b[0m\u001b[0mYear_2009_2010\u001b[0m\u001b[0;34m,\u001b[0m \u001b[0mencoding\u001b[0m\u001b[0;34m=\u001b[0m \u001b[0;34m'unicode_escape'\u001b[0m\u001b[0;34m)\u001b[0m\u001b[0;34m\u001b[0m\u001b[0;34m\u001b[0m\u001b[0m\n\u001b[0m",
      "\u001b[0;31mNameError\u001b[0m: name 'Year_2009_2010' is not defined"
     ]
    }
   ],
   "source": [
    "with open(, 'rb') as f:\n",
    "  text = f.read()"
   ]
  },
  {
   "cell_type": "code",
   "execution_count": 6,
   "metadata": {
    "execution": {
     "iopub.execute_input": "2022-01-17T00:30:01.898452Z",
     "iopub.status.busy": "2022-01-17T00:30:01.897810Z",
     "iopub.status.idle": "2022-01-17T00:30:01.939887Z",
     "shell.execute_reply": "2022-01-17T00:30:01.938543Z",
     "shell.execute_reply.started": "2022-01-17T00:30:01.898405Z"
    }
   },
   "outputs": [],
   "source": [
    "#copy\n",
    "\n",
    "df=df1.copy()"
   ]
  },
  {
   "cell_type": "code",
   "execution_count": 9,
   "metadata": {
    "execution": {
     "iopub.execute_input": "2022-01-17T00:30:02.136192Z",
     "iopub.status.busy": "2022-01-17T00:30:02.135809Z",
     "iopub.status.idle": "2022-01-17T00:30:02.158069Z",
     "shell.execute_reply": "2022-01-17T00:30:02.156772Z",
     "shell.execute_reply.started": "2022-01-17T00:30:02.136151Z"
    }
   },
   "outputs": [],
   "source": [
    "df.head()"
   ]
  },
  {
   "cell_type": "code",
   "execution_count": 10,
   "metadata": {
    "execution": {
     "iopub.execute_input": "2022-01-17T00:31:13.029300Z",
     "iopub.status.busy": "2022-01-17T00:31:13.028446Z",
     "iopub.status.idle": "2022-01-17T00:31:13.338066Z",
     "shell.execute_reply": "2022-01-17T00:31:13.336649Z",
     "shell.execute_reply.started": "2022-01-17T00:31:13.029252Z"
    }
   },
   "outputs": [],
   "source": [
    "#Checking Variables\n",
    "\n",
    "def check_df(dataframe):\n",
    "    print(\"##################### Shape #####################\")\n",
    "    print(dataframe.shape)\n",
    "    print(\"##################### Types #####################\")\n",
    "    print(dataframe.dtypes)\n",
    "    print(\"##################### Head #####################\")\n",
    "    print(dataframe.head(3))\n",
    "    print(\"##################### Tail #####################\")\n",
    "    print(dataframe.tail(3))\n",
    "    print(\"##################### NA #####################\")\n",
    "    print(dataframe.isnull().sum())\n",
    "    print(\"##################### Quantiles #####################\")\n",
    "    print(dataframe.quantile([0, 0.05, 0.50, 0.95, 0.99, 1]).T)\n",
    "\n",
    "check_df(df)"
   ]
  },
  {
   "cell_type": "markdown",
   "metadata": {},
   "source": [
    "<font color = '#D35400'>\n",
    "\n",
    "Check out descriptive statistics of numerical variables. See the difference between 75% and 99% values and then See the difference between 99% and max values. We can think that there are some outliers."
   ]
  },
  {
   "cell_type": "code",
   "execution_count": 11,
   "metadata": {
    "execution": {
     "iopub.execute_input": "2022-01-17T00:36:09.308917Z",
     "iopub.status.busy": "2022-01-17T00:36:09.308529Z",
     "iopub.status.idle": "2022-01-17T00:36:09.530186Z",
     "shell.execute_reply": "2022-01-17T00:36:09.528751Z",
     "shell.execute_reply.started": "2022-01-17T00:36:09.308886Z"
    }
   },
   "outputs": [],
   "source": [
    "#Are there any missing observations in the dataset?\n",
    "df.isnull().sum()"
   ]
  },
  {
   "cell_type": "code",
   "execution_count": 12,
   "metadata": {
    "execution": {
     "iopub.execute_input": "2022-01-17T00:38:42.486663Z",
     "iopub.status.busy": "2022-01-17T00:38:42.486280Z",
     "iopub.status.idle": "2022-01-17T00:38:42.492841Z",
     "shell.execute_reply": "2022-01-17T00:38:42.491600Z",
     "shell.execute_reply.started": "2022-01-17T00:38:42.486630Z"
    }
   },
   "outputs": [],
   "source": [
    "def crm_data(dataframe):\n",
    "    dataframe.dropna(axis=0, inplace=True)\n",
    "    dataframe = dataframe[~dataframe[\"Invoice\"].str.contains(\"C\", na=False)]\n",
    "    dataframe = dataframe[dataframe[\"Quantity\"] > 0]\n",
    "    dataframe[\"TotalPrice\"] = dataframe[\"Quantity\"] * dataframe[\"Price\"]\n",
    "    return dataframe"
   ]
  },
  {
   "cell_type": "code",
   "execution_count": 13,
   "metadata": {
    "execution": {
     "iopub.execute_input": "2022-01-17T00:38:56.154658Z",
     "iopub.status.busy": "2022-01-17T00:38:56.154265Z",
     "iopub.status.idle": "2022-01-17T00:38:57.487545Z",
     "shell.execute_reply": "2022-01-17T00:38:57.486531Z",
     "shell.execute_reply.started": "2022-01-17T00:38:56.154625Z"
    }
   },
   "outputs": [],
   "source": [
    "df=crm_data(df)\n",
    "check_df(df)"
   ]
  },
  {
   "cell_type": "code",
   "execution_count": 15,
   "metadata": {
    "execution": {
     "iopub.execute_input": "2022-01-17T00:39:36.542717Z",
     "iopub.status.busy": "2022-01-17T00:39:36.542308Z",
     "iopub.status.idle": "2022-01-17T00:39:36.720420Z",
     "shell.execute_reply": "2022-01-17T00:39:36.718994Z",
     "shell.execute_reply.started": "2022-01-17T00:39:36.542676Z"
    }
   },
   "outputs": [],
   "source": [
    "#Missing values are deleted\n",
    "df.isnull().sum()"
   ]
  },
  {
   "cell_type": "code",
   "execution_count": 16,
   "metadata": {
    "execution": {
     "iopub.execute_input": "2022-01-17T00:40:09.571717Z",
     "iopub.status.busy": "2022-01-17T00:40:09.571330Z",
     "iopub.status.idle": "2022-01-17T00:40:09.670681Z",
     "shell.execute_reply": "2022-01-17T00:40:09.668993Z",
     "shell.execute_reply.started": "2022-01-17T00:40:09.571684Z"
    }
   },
   "outputs": [],
   "source": [
    "#How many unique items in the dataset?\n",
    "df[\"Description\"].nunique()"
   ]
  },
  {
   "cell_type": "code",
   "execution_count": 17,
   "metadata": {
    "execution": {
     "iopub.execute_input": "2022-01-17T00:40:20.829435Z",
     "iopub.status.busy": "2022-01-17T00:40:20.828987Z",
     "iopub.status.idle": "2022-01-17T00:40:20.935503Z",
     "shell.execute_reply": "2022-01-17T00:40:20.934605Z",
     "shell.execute_reply.started": "2022-01-17T00:40:20.829395Z"
    }
   },
   "outputs": [],
   "source": [
    "#How many product in the dataset?\n",
    "df[\"Description\"].value_counts()"
   ]
  },
  {
   "cell_type": "code",
   "execution_count": 18,
   "metadata": {
    "execution": {
     "iopub.execute_input": "2022-01-17T00:40:53.822745Z",
     "iopub.status.busy": "2022-01-17T00:40:53.822216Z",
     "iopub.status.idle": "2022-01-17T00:40:53.970169Z",
     "shell.execute_reply": "2022-01-17T00:40:53.969205Z",
     "shell.execute_reply.started": "2022-01-17T00:40:53.822709Z"
    }
   },
   "outputs": [],
   "source": [
    "#Rank the 5 most ordered products from most to least\n",
    "df.groupby(\"Description\").agg({\"Quantity\":\"sum\"}).sort_values(\"Quantity\", ascending=False).head(5)"
   ]
  },
  {
   "cell_type": "code",
   "execution_count": 19,
   "metadata": {
    "execution": {
     "iopub.execute_input": "2022-01-17T00:41:45.419445Z",
     "iopub.status.busy": "2022-01-17T00:41:45.418583Z",
     "iopub.status.idle": "2022-01-17T00:41:45.529567Z",
     "shell.execute_reply": "2022-01-17T00:41:45.528447Z",
     "shell.execute_reply.started": "2022-01-17T00:41:45.419390Z"
    }
   },
   "outputs": [],
   "source": [
    "df.describe().T"
   ]
  },
  {
   "cell_type": "code",
   "execution_count": 20,
   "metadata": {
    "execution": {
     "iopub.execute_input": "2022-01-17T00:42:10.529453Z",
     "iopub.status.busy": "2022-01-17T00:42:10.528943Z",
     "iopub.status.idle": "2022-01-17T00:42:13.062298Z",
     "shell.execute_reply": "2022-01-17T00:42:13.061281Z",
     "shell.execute_reply.started": "2022-01-17T00:42:10.529409Z"
    }
   },
   "outputs": [],
   "source": [
    "msno.matrix(df)"
   ]
  },
  {
   "cell_type": "code",
   "execution_count": 21,
   "metadata": {
    "execution": {
     "iopub.execute_input": "2022-01-17T00:42:22.749267Z",
     "iopub.status.busy": "2022-01-17T00:42:22.748817Z",
     "iopub.status.idle": "2022-01-17T00:42:23.207483Z",
     "shell.execute_reply": "2022-01-17T00:42:23.206412Z",
     "shell.execute_reply.started": "2022-01-17T00:42:22.749228Z"
    }
   },
   "outputs": [],
   "source": [
    "# there is no specific correlation between missing values\n",
    "msno.heatmap(df)"
   ]
  },
  {
   "cell_type": "code",
   "execution_count": 22,
   "metadata": {
    "execution": {
     "iopub.execute_input": "2022-01-17T00:42:44.908990Z",
     "iopub.status.busy": "2022-01-17T00:42:44.908594Z",
     "iopub.status.idle": "2022-01-17T00:42:45.121870Z",
     "shell.execute_reply": "2022-01-17T00:42:45.120324Z",
     "shell.execute_reply.started": "2022-01-17T00:42:44.908957Z"
    }
   },
   "outputs": [],
   "source": [
    "sns.boxplot(df[\"Quantity\"])"
   ]
  },
  {
   "cell_type": "code",
   "execution_count": 24,
   "metadata": {
    "execution": {
     "iopub.execute_input": "2022-01-17T00:43:03.834213Z",
     "iopub.status.busy": "2022-01-17T00:43:03.833801Z",
     "iopub.status.idle": "2022-01-17T00:43:04.038618Z",
     "shell.execute_reply": "2022-01-17T00:43:04.037695Z",
     "shell.execute_reply.started": "2022-01-17T00:43:03.834179Z"
    }
   },
   "outputs": [],
   "source": [
    "sns.boxplot(df[\"Price\"])"
   ]
  },
  {
   "cell_type": "code",
   "execution_count": 26,
   "metadata": {
    "execution": {
     "iopub.execute_input": "2022-01-17T00:44:33.363504Z",
     "iopub.status.busy": "2022-01-17T00:44:33.363057Z",
     "iopub.status.idle": "2022-01-17T00:44:33.895468Z",
     "shell.execute_reply": "2022-01-17T00:44:33.894594Z",
     "shell.execute_reply.started": "2022-01-17T00:44:33.363466Z"
    }
   },
   "outputs": [],
   "source": [
    "#Let's check which product has been purchased more often so far\n",
    "plt.figure(figsize=(10,8))\n",
    "df.groupby(\"Description\").sum().sort_values(by = \"Quantity\", ascending = False).head(30)[\"Quantity\"].plot(kind = \"bar\", color = 'mediumseagreen')"
   ]
  },
  {
   "cell_type": "code",
   "execution_count": 28,
   "metadata": {
    "execution": {
     "iopub.execute_input": "2022-01-17T00:46:36.330031Z",
     "iopub.status.busy": "2022-01-17T00:46:36.329430Z",
     "iopub.status.idle": "2022-01-17T00:46:36.335624Z",
     "shell.execute_reply": "2022-01-17T00:46:36.334501Z",
     "shell.execute_reply.started": "2022-01-17T00:46:36.329993Z"
    }
   },
   "outputs": [],
   "source": [
    "#Top 8 Countries With Popular Products\n",
    "top_8_countries = [\"United Kingdom\", \"Netherlands\", \"EIRE\", \"Denmark\", \"Germany\", \"France\", \"Australia\", \"Sweden\"]"
   ]
  },
  {
   "cell_type": "markdown",
   "metadata": {},
   "source": [
    "<font color = '#F1C40F'>\n",
    "\n",
    " <a id = \"7\"></a><br>\n",
    "# Data Preprocessing"
   ]
  },
  {
   "cell_type": "markdown",
   "metadata": {},
   "source": [
    "<font color = '#D35400'>\n",
    "Outlier values are trimmed (very little) without damaging the data.Here we have set a lower and upper limit. But since the lower limit is set, we'll only assign it to the upper limit. We'll do it for Quantity and Price."
   ]
  },
  {
   "cell_type": "code",
   "execution_count": 32,
   "metadata": {
    "execution": {
     "iopub.execute_input": "2022-01-17T00:55:21.563216Z",
     "iopub.status.busy": "2022-01-17T00:55:21.562777Z",
     "iopub.status.idle": "2022-01-17T00:55:21.570517Z",
     "shell.execute_reply": "2022-01-17T00:55:21.569457Z",
     "shell.execute_reply.started": "2022-01-17T00:55:21.563179Z"
    }
   },
   "outputs": [],
   "source": [
    "def outlier_thresholds(dataframe, variable):\n",
    "    quartile1 = dataframe[variable].quantile(0.01)\n",
    "    quartile3 = dataframe[variable].quantile(0.99)\n",
    "    interquantile_range = quartile3 - quartile1\n",
    "    up_limit = quartile3 + 1.5 * interquantile_range\n",
    "    low_limit = quartile1 - 1.5 * interquantile_range\n",
    "    return low_limit, up_limit\n",
    "\n",
    "\n",
    "def replace_with_thresholds(dataframe, variable):\n",
    "    low_limit, up_limit = outlier_thresholds(dataframe, variable)\n",
    "    dataframe.loc[(dataframe[variable] > up_limit), variable] = up_limit\n",
    "\n"
   ]
  },
  {
   "cell_type": "code",
   "execution_count": 33,
   "metadata": {
    "execution": {
     "iopub.execute_input": "2022-01-17T00:55:23.292453Z",
     "iopub.status.busy": "2022-01-17T00:55:23.291760Z",
     "iopub.status.idle": "2022-01-17T00:55:23.330203Z",
     "shell.execute_reply": "2022-01-17T00:55:23.329324Z",
     "shell.execute_reply.started": "2022-01-17T00:55:23.292414Z"
    }
   },
   "outputs": [],
   "source": [
    "replace_with_thresholds(df,\"Quantity\")\n",
    "replace_with_thresholds(df,\"Price\")"
   ]
  },
  {
   "cell_type": "code",
   "execution_count": 34,
   "metadata": {
    "execution": {
     "iopub.execute_input": "2022-01-17T00:55:26.887742Z",
     "iopub.status.busy": "2022-01-17T00:55:26.887353Z",
     "iopub.status.idle": "2022-01-17T00:55:26.983979Z",
     "shell.execute_reply": "2022-01-17T00:55:26.982759Z",
     "shell.execute_reply.started": "2022-01-17T00:55:26.887710Z"
    }
   },
   "outputs": [],
   "source": [
    "# outliers values are now cleaner.\n",
    "\n",
    "df.describe([0.01,0.25,0.50,0.75,0.99]).T"
   ]
  },
  {
   "cell_type": "markdown",
   "metadata": {},
   "source": [
    "<font color = '#D35400'>\n",
    "Missing values are deleted. Canceled Invoices are not received and and a new variable was created."
   ]
  },
  {
   "cell_type": "code",
   "execution_count": null,
   "metadata": {},
   "outputs": [],
   "source": [
    "def crm_data_prep(dataframe):\n",
    "    dataframe.dropna(axis=0, inplace=True)\n",
    "    dataframe = dataframe[~dataframe[\"Invoice\"].str.contains(\"C\", na=False)]\n",
    "    dataframe = dataframe[dataframe[\"Quantity\"] > 0]\n",
    "    dataframe[\"TotalPrice\"] = dataframe[\"Quantity\"] * dataframe[\"Price\"]\n",
    "    return dataframe\n",
    "\n"
   ]
  },
  {
   "cell_type": "code",
   "execution_count": null,
   "metadata": {},
   "outputs": [],
   "source": [
    "df=crm_data_prep(df)\n",
    "check_df(df)\n"
   ]
  },
  {
   "cell_type": "markdown",
   "metadata": {},
   "source": [
    "<font color = '#D35400'>\n",
    "Variables are as follows after they are cleared of outliers values."
   ]
  },
  {
   "cell_type": "code",
   "execution_count": null,
   "metadata": {},
   "outputs": [],
   "source": [
    "sns.boxplot(df[\"Quantity\"])"
   ]
  },
  {
   "cell_type": "code",
   "execution_count": null,
   "metadata": {},
   "outputs": [],
   "source": [
    "sns.boxplot(df[\"Price\"]);"
   ]
  },
  {
   "cell_type": "markdown",
   "metadata": {},
   "source": [
    " <font color = '#F1C40F'>\n",
    "\n",
    "<a id = \"10\"></a><br>\n",
    "# RFM\n"
   ]
  },
  {
   "cell_type": "markdown",
   "metadata": {},
   "source": [
    " <font color = '#34495E'>\n",
    "\n",
    "\n",
    " Now, we are creating RFM.\n",
    "\n",
    "  <a id = \"11\"></a><br>\n",
    " ### What is RFM?\n",
    "<p><img style=\"float: right;margin:-10px 20px 20px 5px; max-width:380px\" src=\"https://miro.medium.com/max/1400/1*HiwX6vul8c4PBEueq3yBMw.png\"><p>RFM is a method used for analyzing customer value. It is commonly used in database marketing and direct marketing and has received particular attention in retail and professional services industries.RFM stands for the three dimensions:\n",
    "\n",
    "* Recency – How recently did the customer purchase?\n",
    "* Frequency – How often do they purchase?\n",
    "* Monetary Value – How much do they spend?\n",
    "Customer purchases may be represented by a table with columns for the customer name, date of purchase and purchase value. One approach to RFM is to assign a score for each dimension on a scale from 1 to 10.\n",
    "    \n",
    "    * Quelle https://en.wikipedia.org/wiki/RFM_(market_research)\n",
    "\n",
    "\n",
    "\n"
   ]
  },
  {
   "cell_type": "code",
   "execution_count": 36,
   "metadata": {
    "execution": {
     "iopub.execute_input": "2022-01-17T01:01:37.266195Z",
     "iopub.status.busy": "2022-01-17T01:01:37.265543Z",
     "iopub.status.idle": "2022-01-17T01:01:37.274759Z",
     "shell.execute_reply": "2022-01-17T01:01:37.273268Z",
     "shell.execute_reply.started": "2022-01-17T01:01:37.266156Z"
    }
   },
   "outputs": [],
   "source": [
    " # When was the last time a customer made a purchase?\n",
    "\n",
    "df[\"InvoiceDate\"].max()\n"
   ]
  },
  {
   "cell_type": "code",
   "execution_count": 39,
   "metadata": {
    "execution": {
     "iopub.execute_input": "2022-01-17T01:02:29.326964Z",
     "iopub.status.busy": "2022-01-17T01:02:29.326523Z",
     "iopub.status.idle": "2022-01-17T01:02:29.335466Z",
     "shell.execute_reply": "2022-01-17T01:02:29.333915Z",
     "shell.execute_reply.started": "2022-01-17T01:02:29.326926Z"
    }
   },
   "outputs": [],
   "source": [
    "# In order to get logical results and avoid zero values, we set 2 days later as today's date.\n",
    "today_date = dt.datetime(2011, 12, 11)\n",
    "today_date"
   ]
  },
  {
   "cell_type": "code",
   "execution_count": 40,
   "metadata": {
    "execution": {
     "iopub.execute_input": "2022-01-17T01:03:18.795560Z",
     "iopub.status.busy": "2022-01-17T01:03:18.795094Z",
     "iopub.status.idle": "2022-01-17T01:03:18.808508Z",
     "shell.execute_reply": "2022-01-17T01:03:18.807598Z",
     "shell.execute_reply.started": "2022-01-17T01:03:18.795526Z"
    }
   },
   "outputs": [],
   "source": [
    "def create_rfm(dataframe):\n",
    "    # RFM Metrics\n",
    "    \n",
    "\n",
    "    today_date = dt.datetime(2010, 12, 11)\n",
    "\n",
    "    rfm = dataframe.groupby('Customer ID').agg({'InvoiceDate': lambda date: (today_date - date.max()).days,\n",
    "                                                'Invoice': lambda num: num.nunique(),\n",
    "                                                \"TotalPrice\": lambda price: price.sum()})\n",
    "\n",
    "    rfm.columns = ['recency', 'frequency', \"monetary\"]\n",
    "\n",
    "    rfm = rfm[(rfm['monetary'] > 0)]\n",
    "\n",
    "\n",
    "    # RFM score\n",
    "    rfm[\"recency_score\"] = pd.qcut(rfm['recency'], 5, labels=[5, 4, 3, 2, 1])\n",
    "    rfm[\"frequency_score\"] = pd.qcut(rfm[\"frequency\"].rank(method=\"first\"), 5, labels=[1, 2, 3, 4, 5])\n",
    "\n",
    "\n",
    "\n",
    "    # segment naming\n",
    "    rfm['rfm_segment'] = rfm['recency_score'].astype(str) + rfm['frequency_score'].astype(str)\n",
    "\n",
    "    seg_map = {\n",
    "        r'[1-2][1-2]': 'hibernating',\n",
    "        r'[1-2][3-4]': 'at_risk',\n",
    "        r'[1-2]5': 'cant_loose',\n",
    "        r'3[1-2]': 'about_to_sleep',\n",
    "        r'33': 'need_attention',\n",
    "        r'[3-4][4-5]': 'loyal_customers',\n",
    "        r'41': 'promising',\n",
    "        r'51': 'new_customers',\n",
    "        r'[4-5][2-3]': 'potential_loyalists',\n",
    "        r'5[4-5]': 'champions'\n",
    "    }\n",
    "\n",
    "    rfm['rfm_segment'] = rfm['rfm_segment'].replace(seg_map, regex=True)\n",
    "    rfm = rfm[[\"recency\", \"frequency\", \"monetary\", \"rfm_segment\"]]\n",
    "    return rfm\n",
    "\n",
    "\n"
   ]
  },
  {
   "cell_type": "code",
   "execution_count": 41,
   "metadata": {
    "execution": {
     "iopub.execute_input": "2022-01-17T01:03:22.319458Z",
     "iopub.status.busy": "2022-01-17T01:03:22.319003Z",
     "iopub.status.idle": "2022-01-17T01:03:24.259122Z",
     "shell.execute_reply": "2022-01-17T01:03:24.257950Z",
     "shell.execute_reply.started": "2022-01-17T01:03:22.319423Z"
    }
   },
   "outputs": [],
   "source": [
    "rfm = create_rfm(df)\n",
    "rfm.head()"
   ]
  },
  {
   "cell_type": "markdown",
   "metadata": {},
   "source": [
    "<a id = \"12\"></a><br>\n",
    "Then segments are created. \n",
    "\n",
    "**So why are we doing this?**\n",
    "\n",
    "We look for answers to these questions;\n",
    "\n",
    "-Who is our most profitable customer?\n",
    "-What is it they appreciate in my products or services?\n",
    "-Who are my new customers?\n",
    "-How do I attract new customers to the company?\n",
    "\n",
    "The answers to the questions are hidden in the segmentation.\n",
    "\n",
    "With better RFM segmentation, we’ll be able to address certain segments in a personalized manner, based on their needs and preferences.\n",
    "\n",
    "Browse the scheme to more easily understand segmentation.\n"
   ]
  },
  {
   "cell_type": "markdown",
   "metadata": {},
   "source": [
    "\n",
    "![](https://images.squarespace-cdn.com/content/v1/5846da08f5e231d83261e223/1624227413790-Z1UYINIFMP4SYO77JTWV/rfm_grid.png) "
   ]
  },
  {
   "cell_type": "code",
   "execution_count": 42,
   "metadata": {
    "execution": {
     "iopub.execute_input": "2022-01-17T01:06:39.591902Z",
     "iopub.status.busy": "2022-01-17T01:06:39.591108Z",
     "iopub.status.idle": "2022-01-17T01:06:40.224684Z",
     "shell.execute_reply": "2022-01-17T01:06:40.223760Z",
     "shell.execute_reply.started": "2022-01-17T01:06:39.591853Z"
    }
   },
   "outputs": [],
   "source": [
    "plt.figure(figsize=(15,7))\n",
    "sns.barplot(x=\"rfm_segment\", y=\"frequency\", data=rfm)"
   ]
  },
  {
   "cell_type": "code",
   "execution_count": 43,
   "metadata": {
    "execution": {
     "iopub.execute_input": "2022-01-17T01:06:43.786316Z",
     "iopub.status.busy": "2022-01-17T01:06:43.785800Z",
     "iopub.status.idle": "2022-01-17T01:06:43.819741Z",
     "shell.execute_reply": "2022-01-17T01:06:43.817694Z",
     "shell.execute_reply.started": "2022-01-17T01:06:43.786274Z"
    }
   },
   "outputs": [],
   "source": [
    "check_df(rfm)"
   ]
  },
  {
   "cell_type": "markdown",
   "metadata": {},
   "source": [
    "<font color = '#F1C40F'>\n",
    "<p><img style=\"float: right;margin:-10px 20px 20px 5px; max-width:380px\" src=\"https://www.the-digital-insurer.com/wp-content/uploads/2020/10/CLV2-800x655.png\">\n",
    " \n",
    "\n",
    "<a id = \"13\"></a><br>\n",
    "\n",
    " #   What is Customer Lifetime Value(CLV or CLTV)?\n",
    "    \n",
    "    "
   ]
  },
  {
   "cell_type": "markdown",
   "metadata": {},
   "source": [
    "\n",
    "<font color = '#34495E'>\n",
    "\n",
    "\n",
    "\n",
    "Customer lifetime value (CLV) is a measure of the total income a business can expect to bring in from a typical customer for as long as that person or account remains a client.\n",
    "\n",
    "When measuring CLV, it’s best to look at the total average revenue generated by a customer and the total average profit. Each provides important insights into how customers interact with your business and if your overall marketing plan is working as expected.\n",
    "\n",
    "For a more in-depth look, you may want to break down your company’s CLV by quartile or some other segmentation of customers. This can give greater insight into what’s working well with high-value customers, so you can work to replicate that success across your entire customer base.\n",
    "    \n",
    "  * Quelle https://www.netsuite.com/portal/resource/articles/ecommerce/customer-lifetime-value-clv.shtml\n"
   ]
  },
  {
   "cell_type": "markdown",
   "metadata": {},
   "source": [
    "<font color = '#F1C40F'>\n",
    "    \n",
    "<a id = \"14\"></a><br>\n",
    "\n",
    "### CLTV Calculated"
   ]
  },
  {
   "cell_type": "markdown",
   "metadata": {},
   "source": [
    "<font color = '#D35400'>\n",
    "\n",
    "* This time we divided people into A, B, C segments. (Not to be confused with rfm segmentation.) Let's remember we do life-time value calculations.\n",
    "\n",
    "* The calculations in the table have been made.\n",
    "\n",
    "* Standardization process was done for better understanding."
   ]
  },
  {
   "cell_type": "code",
   "execution_count": 49,
   "metadata": {
    "execution": {
     "iopub.execute_input": "2022-01-17T01:11:27.472186Z",
     "iopub.status.busy": "2022-01-17T01:11:27.471358Z",
     "iopub.status.idle": "2022-01-17T01:11:27.482831Z",
     "shell.execute_reply": "2022-01-17T01:11:27.481918Z",
     "shell.execute_reply.started": "2022-01-17T01:11:27.472104Z"
    }
   },
   "outputs": [],
   "source": [
    "\n",
    "def create_cltv_calculated(dataframe):\n",
    "    # avg_order_value\n",
    "    dataframe['avg_order_value'] = dataframe['monetary'] / dataframe['frequency']\n",
    "\n",
    "    # purchase_frequency\n",
    "    dataframe[\"purchase_frequency\"] = dataframe['frequency'] / dataframe.shape[0]\n",
    "\n",
    "    # repeat rate & churn rate\n",
    "    repeat_rate = dataframe[dataframe.frequency > 1].shape[0] / dataframe.shape[0]\n",
    "    churn_rate = 1 - repeat_rate\n",
    "\n",
    "    # profit_margin\n",
    "    dataframe['profit_margin'] = dataframe['monetary'] * 0.05\n",
    "\n",
    "    # Customer Value\n",
    "    dataframe['cv'] = (dataframe['avg_order_value'] * dataframe[\"purchase_frequency\"])\n",
    "\n",
    "    # Customer Lifetime Value\n",
    "    dataframe['cltv'] = (dataframe['cv'] / churn_rate) * dataframe['profit_margin']\n",
    "\n",
    "    # minmaxscaler\n",
    "    scaler = MinMaxScaler(feature_range=(1, 100))\n",
    "    scaler.fit(dataframe[[\"cltv\"]])\n",
    "    dataframe[\"cltv_calculated\"] = scaler.transform(dataframe[[\"cltv\"]])\n",
    "\n",
    "    dataframe[\"cltv_calculated_segment\"] = pd.qcut(dataframe[\"cltv_calculated\"], 3, labels=[\"C\", \"B\", \"A\"])\n",
    "\n",
    "    dataframe = dataframe[[\"recency\", \"frequency\", \"monetary\", \"rfm_segment\",\n",
    "                           \"cltv_calculated\", \"cltv_calculated_segment\"]]\n",
    "\n",
    "    return dataframe\n",
    "\n"
   ]
  },
  {
   "cell_type": "code",
   "execution_count": 50,
   "metadata": {
    "execution": {
     "iopub.execute_input": "2022-01-17T01:11:31.193012Z",
     "iopub.status.busy": "2022-01-17T01:11:31.192423Z",
     "iopub.status.idle": "2022-01-17T01:11:31.245687Z",
     "shell.execute_reply": "2022-01-17T01:11:31.244400Z",
     "shell.execute_reply.started": "2022-01-17T01:11:31.192973Z"
    }
   },
   "outputs": [],
   "source": [
    "rfm_cltv = create_cltv_calculated(rfm)\n",
    "check_df(rfm_cltv)\n"
   ]
  },
  {
   "cell_type": "code",
   "execution_count": 51,
   "metadata": {
    "execution": {
     "iopub.execute_input": "2022-01-17T01:11:34.914365Z",
     "iopub.status.busy": "2022-01-17T01:11:34.913969Z",
     "iopub.status.idle": "2022-01-17T01:11:35.497561Z",
     "shell.execute_reply": "2022-01-17T01:11:35.496731Z",
     "shell.execute_reply.started": "2022-01-17T01:11:34.914332Z"
    }
   },
   "outputs": [],
   "source": [
    "plt.figure(figsize=(15,7))\n",
    "sns.barplot(x=\"rfm_segment\", y=\"cltv_calculated\", data=rfm_cltv)"
   ]
  },
  {
   "cell_type": "code",
   "execution_count": 52,
   "metadata": {
    "execution": {
     "iopub.execute_input": "2022-01-17T01:11:39.093954Z",
     "iopub.status.busy": "2022-01-17T01:11:39.093518Z",
     "iopub.status.idle": "2022-01-17T01:11:39.113951Z",
     "shell.execute_reply": "2022-01-17T01:11:39.112698Z",
     "shell.execute_reply.started": "2022-01-17T01:11:39.093918Z"
    }
   },
   "outputs": [],
   "source": [
    "rfm_cltv.head()"
   ]
  },
  {
   "cell_type": "code",
   "execution_count": null,
   "metadata": {},
   "outputs": [],
   "source": [
    "plt.figure(figsize=(15,7))\n",
    "sns.barplot(x=\"cltv_calculated\", y=\"cltv_calculated_segment\", data=rfm_cltv)"
   ]
  },
  {
   "cell_type": "markdown",
   "metadata": {},
   "source": [
    "<font color = '#F1C40F'>\n",
    "    \n",
    "<a id = \"15\"></a><br>\n",
    "\n",
    "### CLTV Preticted"
   ]
  },
  {
   "cell_type": "markdown",
   "metadata": {},
   "source": [
    "<a id = \"16\"></a><br>\n",
    " What is a cohort model?\n",
    "\n",
    "Instead of simply assuming all the customers to be one group, we can try to split them into multiple groups and calculate the CLTV for each group. \n",
    "\n",
    " **Note**: recency value customized. (One of the key differences between RFM and CLTV)"
   ]
  },
  {
   "cell_type": "markdown",
   "metadata": {},
   "source": [
    "<a id = \"17\"></a><br>\n",
    "### BG-NBD\n",
    "\n",
    "\n",
    "In short, expected sales value. Used to estimate how many purchases customers can make over a period of time\n",
    "\n",
    "This method computes the probability that a customer with history (frequency, recency_weekly, T_weekly) is currently alive.(relationship between recency & frequency)\n",
    "\n",
    "<a id = \"18\"></a><br>\n",
    "### Gamma Gamma\n",
    "\n",
    "-conditional expected number of purchases up to time-\n",
    "\n",
    "**Note1**: There should be no correlation between the **frequency of transactions** and **their monetary value.**\n",
    "\n",
    "**Note2:** We are considering only customers who made repeat purchases with the business i.e., frequency > 0. Because, if the frequency is 0, it means that they are a one-time customer and are considered already dead.\n"
   ]
  },
  {
   "cell_type": "code",
   "execution_count": 55,
   "metadata": {
    "execution": {
     "iopub.execute_input": "2022-01-17T01:12:07.236695Z",
     "iopub.status.busy": "2022-01-17T01:12:07.236253Z",
     "iopub.status.idle": "2022-01-17T01:12:07.487532Z",
     "shell.execute_reply": "2022-01-17T01:12:07.486219Z",
     "shell.execute_reply.started": "2022-01-17T01:12:07.236656Z"
    }
   },
   "outputs": [],
   "source": [
    "# The correlation seems very weak. \n",
    "\n",
    "plt.scatter(rfm_cltv.monetary,rfm_cltv.frequency,s=75)\n",
    "\n",
    "\n",
    "plt.xlabel(\"monetary\")\n",
    "plt.ylabel(\"frequency\")\n",
    "plt.legend()\n",
    "plt.show()"
   ]
  },
  {
   "cell_type": "code",
   "execution_count": 56,
   "metadata": {
    "execution": {
     "iopub.execute_input": "2022-01-17T01:12:11.082256Z",
     "iopub.status.busy": "2022-01-17T01:12:11.081628Z",
     "iopub.status.idle": "2022-01-17T01:12:11.097596Z",
     "shell.execute_reply": "2022-01-17T01:12:11.096307Z",
     "shell.execute_reply.started": "2022-01-17T01:12:11.082201Z"
    }
   },
   "outputs": [],
   "source": [
    "def create_cltv_predicted(dataframe):\n",
    "    today_date = dt.datetime(2010, 12, 11)\n",
    "\n",
    "    ## recency value customized\n",
    "    rfm = dataframe.groupby('Customer ID').agg({'InvoiceDate': [lambda date: (date.max()-date.min()).days,\n",
    "                                                                lambda date: (today_date - date.min()).days],\n",
    "                                                'Invoice': lambda num: num.nunique(),\n",
    "                                                'TotalPrice': lambda TotalPrice: TotalPrice.sum()})\n",
    "\n",
    "    rfm.columns = rfm.columns.droplevel(0)\n",
    "\n",
    "    ## recency_cltv_predicted\n",
    "    rfm.columns = ['recency_cltv_predicted', 'T', 'frequency', 'monetary']\n",
    "\n",
    "    ## basic monetary_avg\n",
    "    rfm[\"monetary\"] = rfm[\"monetary\"] / rfm[\"frequency\"]\n",
    "\n",
    "    rfm.rename(columns={\"monetary\": \"monetary_avg\"}, inplace=True)\n",
    "\n",
    "\n",
    "  \n",
    "    ## recency_weekly_cltv_predicted\n",
    "    rfm[\"recency_weekly_cltv_predicted\"] = rfm[\"recency_cltv_predicted\"] / 7\n",
    "    rfm[\"T_weekly\"] = rfm[\"T\"] / 7\n",
    "\n",
    "\n",
    "\n",
    "    # CONTROL\n",
    "    rfm = rfm[rfm[\"monetary_avg\"] > 0]\n",
    "\n",
    "    ## recency filter\n",
    "    rfm = rfm[(rfm['frequency'] > 1)]\n",
    "\n",
    "    rfm[\"frequency\"] = rfm[\"frequency\"].astype(int)\n",
    "\n",
    "    # BGNBD\n",
    "    bgf = BetaGeoFitter(penalizer_coef=0.01)\n",
    "    bgf.fit(rfm['frequency'],\n",
    "            rfm['recency_weekly_cltv_predicted'],\n",
    "            rfm['T_weekly'])\n",
    "\n",
    "\n",
    "    # Gamma Gamma\n",
    "    ggf = GammaGammaFitter(penalizer_coef=0.01)\n",
    "    ggf.fit(rfm['frequency'], rfm['monetary_avg'])\n",
    "    rfm[\"expected_average_profit\"] = ggf.conditional_expected_average_profit(rfm['frequency'],\n",
    "                                                                             rfm['monetary_avg'])\n",
    "    # 6 months cltv_p\n",
    "    cltv = ggf.customer_lifetime_value(bgf,\n",
    "                                       rfm['frequency'],\n",
    "                                       rfm['recency_weekly_cltv_predicted'],\n",
    "                                       rfm['T_weekly'],\n",
    "                                       rfm['monetary_avg'],\n",
    "                                       time=6,\n",
    "                                       freq=\"W\",\n",
    "                                       discount_rate=0.01)\n",
    "\n",
    "    rfm[\"cltv_predicted\"] = cltv\n",
    "\n",
    "    # minmaxscaler\n",
    "    scaler = MinMaxScaler(feature_range=(1, 100))\n",
    "    scaler.fit(rfm[[\"cltv_predicted\"]])\n",
    "    rfm[\"cltv_predicted\"] = scaler.transform(rfm[[\"cltv_predicted\"]])\n",
    "\n",
    "    # rfm.fillna(0, inplace=True)\n",
    "\n",
    "    # cltv_predicted_segment\n",
    "    rfm[\"cltv_predicted_segment\"] = pd.qcut(rfm[\"cltv_predicted\"], 3, labels=[\"C\", \"B\", \"A\"])\n",
    "\n",
    "    ## recency_cltv_predicted, recency_weekly_cltv_predicted\n",
    "    rfm = rfm[[\"recency_cltv_predicted\", \"T\", \"monetary_avg\", \"recency_weekly_cltv_predicted\", \"T_weekly\",\n",
    "               \"expected_average_profit\",\"cltv_predicted\", \"cltv_predicted_segment\"]]\n",
    "\n",
    "\n",
    "    return rfm\n"
   ]
  },
  {
   "cell_type": "code",
   "execution_count": 57,
   "metadata": {
    "execution": {
     "iopub.execute_input": "2022-01-17T01:12:16.896955Z",
     "iopub.status.busy": "2022-01-17T01:12:16.896567Z",
     "iopub.status.idle": "2022-01-17T01:12:20.005895Z",
     "shell.execute_reply": "2022-01-17T01:12:20.003503Z",
     "shell.execute_reply.started": "2022-01-17T01:12:16.896918Z"
    }
   },
   "outputs": [],
   "source": [
    "rfm_cltv_predicted = create_cltv_predicted(df)\n",
    "check_df(rfm_cltv_predicted)"
   ]
  },
  {
   "cell_type": "code",
   "execution_count": 58,
   "metadata": {
    "execution": {
     "iopub.execute_input": "2022-01-17T01:12:25.395471Z",
     "iopub.status.busy": "2022-01-17T01:12:25.394975Z",
     "iopub.status.idle": "2022-01-17T01:12:25.414379Z",
     "shell.execute_reply": "2022-01-17T01:12:25.413040Z",
     "shell.execute_reply.started": "2022-01-17T01:12:25.395421Z"
    }
   },
   "outputs": [],
   "source": [
    "rfm_cltv_predicted.head()"
   ]
  },
  {
   "cell_type": "code",
   "execution_count": 59,
   "metadata": {
    "execution": {
     "iopub.execute_input": "2022-01-17T01:12:28.305574Z",
     "iopub.status.busy": "2022-01-17T01:12:28.305162Z",
     "iopub.status.idle": "2022-01-17T01:12:28.449446Z",
     "shell.execute_reply": "2022-01-17T01:12:28.448244Z",
     "shell.execute_reply.started": "2022-01-17T01:12:28.305539Z"
    }
   },
   "outputs": [],
   "source": [
    "rfm_cltv_predicted.groupby('cltv_predicted_segment').agg('expected_average_profit').mean().plot(kind='bar', colormap='copper_r');\n",
    "\n",
    "plt.ylabel(\"profit\");"
   ]
  },
  {
   "cell_type": "markdown",
   "metadata": {},
   "source": [
    "\n",
    "\n",
    "<font color = '#F1C40F'>\n",
    "    \n",
    "<a id = \"19\"></a><br>\n",
    "    \n",
    "# Result!"
   ]
  },
  {
   "cell_type": "code",
   "execution_count": 60,
   "metadata": {
    "execution": {
     "iopub.execute_input": "2022-01-17T01:12:31.474490Z",
     "iopub.status.busy": "2022-01-17T01:12:31.474059Z",
     "iopub.status.idle": "2022-01-17T01:12:31.527754Z",
     "shell.execute_reply": "2022-01-17T01:12:31.525975Z",
     "shell.execute_reply.started": "2022-01-17T01:12:31.474455Z"
    }
   },
   "outputs": [],
   "source": [
    "crm_final = rfm_cltv.merge(rfm_cltv_predicted, on=\"Customer ID\", how=\"left\")\n",
    "check_df(crm_final)"
   ]
  },
  {
   "cell_type": "code",
   "execution_count": 61,
   "metadata": {
    "execution": {
     "iopub.execute_input": "2022-01-17T01:12:36.094818Z",
     "iopub.status.busy": "2022-01-17T01:12:36.094401Z",
     "iopub.status.idle": "2022-01-17T01:12:36.125825Z",
     "shell.execute_reply": "2022-01-17T01:12:36.124685Z",
     "shell.execute_reply.started": "2022-01-17T01:12:36.094784Z"
    }
   },
   "outputs": [],
   "source": [
    "# will be effective in campaign decisions\n",
    "\n",
    "crm_final.sort_values(by=\"monetary_avg\", ascending=False).head()"
   ]
  },
  {
   "cell_type": "markdown",
   "metadata": {},
   "source": [
    "<font color = '#D35400'>\n",
    "    \n",
    "<a id = \"20\"></a><br>\n",
    "\n",
    "# Summary\n",
    "\n",
    "* The result of my analysis is that we can reach customers in different segments and offer them different campaigns."
   ]
  }
 ],
 "metadata": {
  "kernelspec": {
   "display_name": "Python 3",
   "language": "python",
   "name": "python3"
  },
  "language_info": {
   "codemirror_mode": {
    "name": "ipython",
    "version": 3
   },
   "file_extension": ".py",
   "mimetype": "text/x-python",
   "name": "python",
   "nbconvert_exporter": "python",
   "pygments_lexer": "ipython3",
   "version": "3.8.5"
  },
  "toc": {
   "base_numbering": 1,
   "nav_menu": {},
   "number_sections": true,
   "sideBar": true,
   "skip_h1_title": false,
   "title_cell": "Table of Contents",
   "title_sidebar": "Contents",
   "toc_cell": false,
   "toc_position": {},
   "toc_section_display": true,
   "toc_window_display": true
  }
 },
 "nbformat": 4,
 "nbformat_minor": 4
}
